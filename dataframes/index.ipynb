{
 "cells": [
  {
   "cell_type": "markdown",
   "metadata": {},
   "source": [
    "There are many things about dataframes, which you should learn in order, so this section is organized as an ordered tutorial (just an example, to compare against the machine learning section):\n",
    "\n",
    "  * [Introduction to dask dataframes](00_Introduction.ipynb)  \n",
    "    Start here to learn the basics\n",
    "    \n",
    "  * [Data Access](01_Data_Access.ipynb)  \n",
    "    How to read and write data\n",
    "    \n",
    "  * [GroupBy](02_GroupBy.ipynb)  \n",
    "    How to do Pandas-style groupby aggregation and groupby apply.\n"
   ]
  }
 ],
 "metadata": {
  "language_info": {
   "name": "python",
   "pygments_lexer": "ipython3"
  }
 },
 "nbformat": 4,
 "nbformat_minor": 2
}
