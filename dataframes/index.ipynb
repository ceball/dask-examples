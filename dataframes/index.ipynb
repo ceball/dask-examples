{
 "cells": [
  {
   "cell_type": "markdown",
   "metadata": {},
   "source": [
    "There are many things about dataframes, which you should learn in order, so this section is organized as an ordered tutorial (just an example, to compare against the machine learning section):\n",
    "\n",
    "  * [Introduction to dask dataframes](00_Introduction.ipynb)  \n",
    "    Start here to learn the basics\n",
    "    \n",
    "  * [Data Access](01_Data_Access.ipynb)  \n",
    "    How to read and write data\n",
    "    \n",
    "  * [GroupBy](02_GroupBy.ipynb)  \n",
    "    How to do Pandas-style groupby aggregation and groupby apply.\n"
   ]
  }
 ],
 "metadata": {
  "kernelspec": {
   "display_name": "Python 3",
   "language": "python",
   "name": "python3"
  },
  "language_info": {
   "codemirror_mode": {
    "name": "ipython",
    "version": 3
   },
   "file_extension": ".py",
   "mimetype": "text/x-python",
   "name": "python",
   "nbconvert_exporter": "python",
   "pygments_lexer": "ipython3",
   "version": "3.6.6"
  }
 },
 "nbformat": 4,
 "nbformat_minor": 2
}
